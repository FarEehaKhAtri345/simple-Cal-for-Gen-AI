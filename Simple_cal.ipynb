{
  "nbformat": 4,
  "nbformat_minor": 0,
  "metadata": {
    "colab": {
      "provenance": [],
      "gpuType": "T4",
      "authorship_tag": "ABX9TyO1hDrhcrtwmViDGb06LuTz",
      "include_colab_link": true
    },
    "kernelspec": {
      "name": "python3",
      "display_name": "Python 3"
    },
    "language_info": {
      "name": "python"
    },
    "accelerator": "GPU"
  },
  "cells": [
    {
      "cell_type": "markdown",
      "metadata": {
        "id": "view-in-github",
        "colab_type": "text"
      },
      "source": [
        "<a href=\"https://colab.research.google.com/github/FarEehaKhAtri345/simple-Cal-for-Gen-AI/blob/main/Simple_cal.ipynb\" target=\"_parent\"><img src=\"https://colab.research.google.com/assets/colab-badge.svg\" alt=\"Open In Colab\"/></a>"
      ]
    },
    {
      "cell_type": "code",
      "source": [
        "# Simple Calculator in Python\n",
        "\n",
        "# Function for addition\n",
        "def add(x, y):\n",
        "    return x + y\n",
        "\n",
        "# Function for subtraction\n",
        "def subtract(x, y):\n",
        "    return x - y\n",
        "\n",
        "# Function for multiplication\n",
        "def multiply(x, y):\n",
        "    return x * y\n",
        "\n",
        "# Function for division\n",
        "def divide(x, y):\n",
        "    if y == 0:\n",
        "        return \"Error! Division by zero.\"\n",
        "    else:\n",
        "        return x / y\n",
        "\n",
        "# Main calculator logic\n",
        "def calculator():\n",
        "    print(\"Select operation:\")\n",
        "    print(\"1. Add\")\n",
        "    print(\"2. Subtract\")\n",
        "    print(\"3. Multiply\")\n",
        "    print(\"4. Divide\")\n",
        "\n",
        "    # Take input from the user for operation\n",
        "    choice = input(\"Enter choice (1/2/3/4): \")\n",
        "\n",
        "    # Validate input\n",
        "    if choice in ['1', '2', '3', '4']:\n",
        "        # Take input for numbers\n",
        "        num1 = float(input(\"Enter first number: \"))\n",
        "        num2 = float(input(\"Enter second number: \"))\n",
        "\n",
        "        # Perform the chosen operation\n",
        "        if choice == '1':\n",
        "            print(f\"{num1} + {num2} = {add(num1, num2)}\")\n",
        "        elif choice == '2':\n",
        "            print(f\"{num1} - {num2} = {subtract(num1, num2)}\")\n",
        "        elif choice == '3':\n",
        "            print(f\"{num1} * {num2} = {multiply(num1, num2)}\")\n",
        "        elif choice == '4':\n",
        "            print(f\"{num1} / {num2} = {divide(num1, num2)}\")\n",
        "    else:\n",
        "        print(\"Invalid input, please select a valid operation!\")\n",
        "\n",
        "# Call the calculator function to run it\n",
        "calculator()\n"
      ],
      "metadata": {
        "colab": {
          "base_uri": "https://localhost:8080/"
        },
        "id": "iZZzBnsbrJXV",
        "outputId": "550edd45-abc1-4ad3-bb10-e88920d2dc27"
      },
      "execution_count": 8,
      "outputs": [
        {
          "output_type": "stream",
          "name": "stdout",
          "text": [
            "Select operation:\n",
            "1. Add\n",
            "2. Subtract\n",
            "3. Multiply\n",
            "4. Divide\n",
            "Enter choice (1/2/3/4): 3\n",
            "Enter first number: 60\n",
            "Enter second number: 100\n",
            "60.0 * 100.0 = 6000.0\n"
          ]
        }
      ]
    }
  ]
}